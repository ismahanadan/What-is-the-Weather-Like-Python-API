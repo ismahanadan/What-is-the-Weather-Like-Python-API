{
 "cells": [
  {
   "cell_type": "markdown",
   "metadata": {},
   "source": [
    "# WeatherPy\n",
    "----\n",
    "\n",
    "#### Note\n",
    "* Instructions have been included for each segment. You do not have to follow them exactly, but they are included to help you think through the steps."
   ]
  },
  {
   "cell_type": "code",
   "execution_count": 2,
   "metadata": {
    "scrolled": true
   },
   "outputs": [],
   "source": [
    "# Dependencies and Setup\n",
    "import matplotlib.pyplot as plt\n",
    "import pandas as pd\n",
    "import numpy as np\n",
    "import requests\n",
    "import time\n",
    "from scipy.stats import linregress\n",
    "\n",
    "# Import API key\n",
    "from api_keys import weather_api_key\n",
    "\n",
    "# Incorporated citipy to determine city based on latitude and longitude\n",
    "from citipy import citipy\n",
    "\n",
    "# Output File (CSV)\n",
    "output_data_file = \"../output_data/cities.csv\"\n",
    "\n",
    "# Range of latitudes and longitudes\n",
    "lat_range = (-90, 90)\n",
    "lng_range = (-180, 180)"
   ]
  },
  {
   "cell_type": "code",
   "execution_count": 3,
   "metadata": {},
   "outputs": [
    {
     "data": {
      "text/html": [
       "<div>\n",
       "<style scoped>\n",
       "    .dataframe tbody tr th:only-of-type {\n",
       "        vertical-align: middle;\n",
       "    }\n",
       "\n",
       "    .dataframe tbody tr th {\n",
       "        vertical-align: top;\n",
       "    }\n",
       "\n",
       "    .dataframe thead th {\n",
       "        text-align: right;\n",
       "    }\n",
       "</style>\n",
       "<table border=\"1\" class=\"dataframe\">\n",
       "  <thead>\n",
       "    <tr style=\"text-align: right;\">\n",
       "      <th></th>\n",
       "      <th>City_ID</th>\n",
       "      <th>City</th>\n",
       "      <th>Cloudiness</th>\n",
       "      <th>Country</th>\n",
       "      <th>Date</th>\n",
       "      <th>Humidity</th>\n",
       "      <th>Lat</th>\n",
       "      <th>Lng</th>\n",
       "      <th>Max Temp</th>\n",
       "      <th>Wind Speed</th>\n",
       "    </tr>\n",
       "  </thead>\n",
       "  <tbody>\n",
       "    <tr>\n",
       "      <th>0</th>\n",
       "      <td>0</td>\n",
       "      <td>ostrovnoy</td>\n",
       "      <td>2</td>\n",
       "      <td>RU</td>\n",
       "      <td>1558378754</td>\n",
       "      <td>72</td>\n",
       "      <td>68.05</td>\n",
       "      <td>39.51</td>\n",
       "      <td>37.50</td>\n",
       "      <td>7.16</td>\n",
       "    </tr>\n",
       "    <tr>\n",
       "      <th>1</th>\n",
       "      <td>1</td>\n",
       "      <td>mahebourg</td>\n",
       "      <td>75</td>\n",
       "      <td>MU</td>\n",
       "      <td>1558378503</td>\n",
       "      <td>74</td>\n",
       "      <td>-20.41</td>\n",
       "      <td>57.70</td>\n",
       "      <td>78.80</td>\n",
       "      <td>11.41</td>\n",
       "    </tr>\n",
       "    <tr>\n",
       "      <th>2</th>\n",
       "      <td>2</td>\n",
       "      <td>qaanaaq</td>\n",
       "      <td>25</td>\n",
       "      <td>GL</td>\n",
       "      <td>1558378755</td>\n",
       "      <td>73</td>\n",
       "      <td>77.48</td>\n",
       "      <td>-69.36</td>\n",
       "      <td>22.20</td>\n",
       "      <td>2.37</td>\n",
       "    </tr>\n",
       "    <tr>\n",
       "      <th>3</th>\n",
       "      <td>3</td>\n",
       "      <td>zhuhai</td>\n",
       "      <td>0</td>\n",
       "      <td>CN</td>\n",
       "      <td>1558378755</td>\n",
       "      <td>39</td>\n",
       "      <td>40.71</td>\n",
       "      <td>112.04</td>\n",
       "      <td>44.60</td>\n",
       "      <td>4.47</td>\n",
       "    </tr>\n",
       "    <tr>\n",
       "      <th>4</th>\n",
       "      <td>4</td>\n",
       "      <td>cape town</td>\n",
       "      <td>20</td>\n",
       "      <td>ZA</td>\n",
       "      <td>1558378755</td>\n",
       "      <td>76</td>\n",
       "      <td>-33.93</td>\n",
       "      <td>18.42</td>\n",
       "      <td>55.99</td>\n",
       "      <td>8.05</td>\n",
       "    </tr>\n",
       "  </tbody>\n",
       "</table>\n",
       "</div>"
      ],
      "text/plain": [
       "   City_ID       City  Cloudiness Country        Date  Humidity    Lat  \\\n",
       "0        0  ostrovnoy           2      RU  1558378754        72  68.05   \n",
       "1        1  mahebourg          75      MU  1558378503        74 -20.41   \n",
       "2        2    qaanaaq          25      GL  1558378755        73  77.48   \n",
       "3        3     zhuhai           0      CN  1558378755        39  40.71   \n",
       "4        4  cape town          20      ZA  1558378755        76 -33.93   \n",
       "\n",
       "      Lng  Max Temp  Wind Speed  \n",
       "0   39.51     37.50        7.16  \n",
       "1   57.70     78.80       11.41  \n",
       "2  -69.36     22.20        2.37  \n",
       "3  112.04     44.60        4.47  \n",
       "4   18.42     55.99        8.05  "
      ]
     },
     "execution_count": 3,
     "metadata": {},
     "output_type": "execute_result"
    }
   ],
   "source": [
    "file = \"../output_data/cities.csv\"\n",
    "\n",
    "cities = pd.read_csv(file)\n",
    "cities.head()"
   ]
  },
  {
   "cell_type": "markdown",
   "metadata": {},
   "source": [
    "## Generate Cities List"
   ]
  },
  {
   "cell_type": "code",
   "execution_count": 4,
   "metadata": {},
   "outputs": [
    {
     "data": {
      "text/plain": [
       "610"
      ]
     },
     "execution_count": 4,
     "metadata": {},
     "output_type": "execute_result"
    }
   ],
   "source": [
    "# List for holding lat_lngs and cities\n",
    "lat_lngs = []\n",
    "cities = []\n",
    "\n",
    "# Create a set of random lat and lng combinations\n",
    "lats = np.random.uniform(lat_range[0], lat_range[1], size=1500)\n",
    "lngs = np.random.uniform(lng_range[0], lng_range[1], size=1500)\n",
    "lat_lngs = zip(lats, lngs)\n",
    "\n",
    "# Identify nearest city for each lat, lng combination\n",
    "for lat_lng in lat_lngs:\n",
    "    city = citipy.nearest_city(lat_lng[0], lat_lng[1]).city_name\n",
    "    \n",
    "    # If the city is unique, then add it to a our cities list\n",
    "    if city not in cities:\n",
    "        cities.append(city)\n",
    "\n",
    "# Print the city count to confirm sufficient count\n",
    "len(cities)"
   ]
  },
  {
   "cell_type": "markdown",
   "metadata": {},
   "source": [
    "### Perform API Calls\n",
    "* Perform a weather check on each city using a series of successive API calls.\n",
    "* Include a print log of each city as it'sbeing processed (with the city number and city name).\n"
   ]
  },
  {
   "cell_type": "code",
   "execution_count": 5,
   "metadata": {
    "scrolled": true
   },
   "outputs": [
    {
     "ename": "NameError",
     "evalue": "name 'api_key' is not defined",
     "output_type": "error",
     "traceback": [
      "\u001b[0;31m---------------------------------------------------------------------------\u001b[0m",
      "\u001b[0;31mNameError\u001b[0m                                 Traceback (most recent call last)",
      "\u001b[0;32m<ipython-input-5-570d1052e5de>\u001b[0m in \u001b[0;36m<module>\u001b[0;34m\u001b[0m\n\u001b[1;32m      4\u001b[0m \u001b[0;34m\u001b[0m\u001b[0m\n\u001b[1;32m      5\u001b[0m \u001b[0;31m# Build partial query URL\u001b[0m\u001b[0;34m\u001b[0m\u001b[0;34m\u001b[0m\u001b[0;34m\u001b[0m\u001b[0m\n\u001b[0;32m----> 6\u001b[0;31m \u001b[0mquery_url\u001b[0m \u001b[0;34m=\u001b[0m \u001b[0;34mf\"{url}appid={api_key}&units={units}&q=\"\u001b[0m\u001b[0;34m\u001b[0m\u001b[0;34m\u001b[0m\u001b[0m\n\u001b[0m\u001b[1;32m      7\u001b[0m \u001b[0;34m\u001b[0m\u001b[0m\n\u001b[1;32m      8\u001b[0m \u001b[0;34m\u001b[0m\u001b[0m\n",
      "\u001b[0;31mNameError\u001b[0m: name 'api_key' is not defined"
     ]
    }
   ],
   "source": [
    "url = \"http://api.openweathermap.org/data/2.5/weather?\"\n",
    "units = \"imperial\"\n",
    "\n",
    "\n",
    "# Build partial query URL\n",
    "query_url = f\"{url}appid={weather_api_key}&units={units}&q=\"\n",
    "\n",
    "\n",
    "weather_response = requests.get(query_url + city)\n",
    "weather_json = weather_response.json()\n",
    "print(json.dumps(weather_json, indent=4))"
   ]
  },
  {
   "cell_type": "code",
   "execution_count": 41,
   "metadata": {},
   "outputs": [
    {
     "name": "stdout",
     "output_type": "stream",
     "text": [
      "The temperature information received is: ['bredasdorp', 'hermanus', 'rocha', 'hilo', 'boffa', 'arraial do cabo', 'teahupoo', 'rikitea', 'mutis', 'busselton', 'punta arenas', 'east london', 'whitehorse', 'ambilobe', 'belushya guba', 'comodoro rivadavia', 'barentsburg', 'petatlan', 'hobart', 'lucapa', 'vardo', 'ponta delgada', 'new norfolk', 'inhambane', 'shache', 'cape town', 'lianzhou', 'nikolskoye', 'palmer', 'ushuaia', 'saint-denis', 'kerteh', 'kapaa', 'mataura', 'letavertes', 'hvammstangi', 'moussoro', 'lebu', 'shwebo', 'adrar', 'te anau', 'tuktoyaktuk', 'avera', 'qaanaaq', 'amderma', 'ribeira grande', 'jamestown', 'broken hill', 'hambantota', 'taolanaro', 'carnarvon', 'kushima', 'souillac', 'kissidougou', 'camopi', 'rincon', 'inderborskiy', 'yar-sale', 'dawlatabad', 'mount isa', 'port hardy', 'victoria', 'omsukchan', 'fortuna', 'antofagasta', 'lawrenceburg', 'katangli', 'atuona', 'udachnyy', 'bardsir', 'puerto ayora', 'delano', 'lipin bor', 'pisco', 'coquimbo', 'baturaja', 'krasnoselkup', 'thompson', 'salinopolis', 'urengoy', 'la uribe', 'chokurdakh', 'japura', 'dangtu', 'port alfred', 'longyearbyen', 'castro', 'tiarei', 'torgau', 'vaitupu', 'muzhi', 'itoman', 'margate', 'provideniya', 'olga', 'luderitz', 'muana', 'sao joaquim', 'akom', 'kodiak', 'lasem', 'wawa', 'albany', 'mountain home', 'pacific grove', 'marcona', 'avarua', 'qibili', 'sentyabrskiy', 'upernavik', 'erenhot', 'cedral', 'port hueneme', 'gwanda', 'balabac', 'kloulklubed', 'tsihombe', 'tiksi', 'meulaboh', 'paita', 'gatesville', 'goure', 'vaini', 'korsakov', 'hithadhoo', 'saint-augustin', 'saint-andre-les-vergers', 'sidi ali', 'port keats', 'xuddur', 'concepcion del oro', 'nizhneyansk', 'chuy', 'ancud', 'huarmey', 'lata', 'paracuru', 'luanda', 'cherskiy', 'dikson', 'khatanga', 'deputatskiy', 'la palma', 'narsaq', 'olafsvik', 'kruisfontein', 'barranca', 'ambalavao', 'bolshaya irba', 'grand river south east', 'anadyr', 'butaritari', 'ambovombe', 'geraldton', 'polunochnoye', 'salalah', 'airai', 'attawapiskat', 'muros', 'ostrovnoy', 'darnah', 'bluff', 'ishinomaki', 'korla', 'norman wells', 'huatulco', 'segou', 'lagoa', 'saskylakh', 'ust-kulom', 'clovis', 'samusu', 'pyay', 'puerto escondido', 'eldikan', 'saint-philippe', 'saint george', 'saleaula', 'marzuq', 'san felipe', 'vilhena', 'isangel', 'zhigansk', 'port-cartier', 'severo-kurilsk', 'port hawkesbury', 'sao filipe', 'makakilo city', 'cidreira', 'mahebourg', 'antalaha', 'tumannyy', 'port elizabeth', 'ararangua', 'dubbo', 'rio gallegos', 'vila velha', 'the pas', 'breisach', 'lamu', 'mbandaka', 'aklavik', 'petropavlovsk-kamchatskiy', 'coihaique', 'arlit', 'esperance', 'georgetown', 'half moon bay', 'bengkulu', 'tasiilaq', 'asau', 'hamilton', 'vila', 'velika gorica', 'lazaro cardenas', 'katsuura', 'concepcion', 'yumbe', 'fukue', 'tateyama', 'wabana', 'formosa', 'halalo', 'waingapu', 'sambava', 'biak', 'pevek', 'klaksvik', 'buin', 'faanui', 'sawakin', 'samarai', 'clyde river', 'sorland', 'borba', 'saldanha', 'toowoomba', 'porto novo', 'sumbe', 'les cayes', 'praia da vitoria', 'maputo', 'santa cruz', 'pipri', 'shirokiy', 'suntar', 'cockburn town', 'pascagoula', 'puri', 'marovoay', 'byron bay', 'roebourne', 'grand-lahou', 'warqla', 'ilulissat', 'tessalit', 'vostok', 'ponta do sol', 'thinadhoo', 'aswan', 'kathu', 'husavik', 'hasaki', 'stabat', 'inuvik', 'leua', 'leningradskiy', 'namibe', 'mar del plata', 'dan khun thot', 'palabuhanratu', 'yellowknife', 'acapulco', 'nouadhibou', 'chenzhou', 'sao miguel do araguaia', 'illoqqortoormiut', 'san cristobal', 'nova olimpia', 'natal', 'alofi', 'cairns', 'kaitangata', 'bambous virieux', 'kendari', 'barbuletu', 'palma di montechiaro', 'necochea', 'zalesovo', 'bonthe', 'xadani', 'hualmay', 'svetlogorsk', 'guadalupe y calvo', 'jiddah', 'yarmouth', 'touros', 'bangassou', 'gorontalo', 'pierre', 'kaeo', 'oksfjord', 'college', 'kaka', 'nampula', 'nosy varika', 'guerrero negro', 'tambura', 'barrow', 'mys shmidta', 'caravelas', 'chagda', 'cheremshan', 'gaoua', 'murchison', 'bethel', 'totness', 'nanortalik', 'seddon', 'soyo', 'hashimoto', 'yatou', 'karpogory', 'kununurra', 'axim', 'ternate', 'nome', 'sainte-thecle', 'lorengau', 'nouna', 'biloela', 'mackay', 'leticia', 'bam', 'dwarka', 'tajimi', 'rabo de peixe', 'deloraine', 'thunder bay', 'umzimvubu', 'mosquera', 'buzmeyin', 'berlevag', 'kindu', 'panama city', 'muravlenko', 'tezu', 'puerto ayacucho', 'markapur', 'bako', 'pangnirtung', 'kaffrine', 'talnakh', 'tromso', 'wexford', 'kumluca', 'sobolevo', 'do rud', 'dzhusaly', 'yingzhong', 'maghama', 'tombouctou', 'yirol', 'yanam', 'torbay', 'mrirt', 'puerto del rosario', 'constantine', 'aflu', 'yudong', 'roald', 'oudtshoorn', 'takoradi', 'grindavik', 'san joaquin', 'gladstone', 'ushtobe', 'katobu', 'pokhara', 'oyon', 'batticaloa', 'namatanai', 'khromtau', 'brest', 'mongo', 'quatre cocos', 'oussouye', 'plettenberg bay', 'kitui', 'perelyub', 'smithers', 'komsomolskiy', 'paamiut', 'san nicolas', 'corn island', 'pedasi', 'menongue', 'portoferraio', 'khormuj', 'mattru', 'karaul', 'cayenne', 'dunda', 'columbia', 'russell', 'andros town', 'beruwala', 'champasak', 'aksu', 'ust-nera', 'kirchzarten', 'jibuti', 'moroto', 'ndele', 'bilma', 'krasnyy chikoy', 'villachuato', 'bathsheba', 'caucaia', 'ketchikan', 'abbeville', 'iquique', 'kawana waters', 'chapulhuacan', 'kasempa', 'cabo san lucas', 'le pradet', 'bria', 'balikpapan', 'ayr', 'vydrino', 'ulladulla', 'homer', 'tamworth', 'lasa', 'riberalta', 'columbus', 'phan rang', 'vanimo', 'sonamura', 'nemuro', 'tarsus', 'dukat', 'ibotirama', 'honiara', 'kargasok', 'zheleznodorozhnyy', 'mbuguni', 'puerto colombia', 'teya', 'sinnamary', 'hovd', 'kohtla-jarve', 'palana', 'gra liyia', 'kanata', 'bintulu', 'kutiyana', 'beisfjord', 'nortelandia', 'nicoya', 'saru dornei', 'imeni poliny osipenko', 'haines junction', 'kiruna', 'muroto', 'chukhloma', 'chara', 'abalak', 'matara', 'darhan', 'praya', 'kokopo', 'khasan', 'olavarria', 'matinha', 'alekseyevsk', 'santa rosa', 'kavaratti', 'eureka', 'ardu', 'tibanban', 'nikolayevka', 'auki', 'sandpoint', 'agar', 'fort nelson', 'kamenskoye', 'bonavista', 'poya', 'cabedelo', 'havoysund', 'kaura namoda', 'podor', 'ormara', 'innisfail', 'gornopravdinsk', 'lompoc', 'port blair', 'pasni', 'yulara', 'gorno-chuyskiy', 'broome', 'oktyabrskiy', 'camocim', 'port lincoln', 'robertsport', 'uzventis', 'nanyamba', 'ankpa', 'san francisco', 'eregli', 'gunjur', 'paso de los toros', 'sur', 'mahibadhoo', 'ishigaki', 'vanavara', 'egvekinot', 'san patricio', 'zephyrhills', 'kevsala', 'elista', 'cap malheureux', 'tuatapere', 'bolshoy lug', 'goderich', 'tipperary', 'keffi', 'gobabis', 'alugan', 'sunbury', 'tabiauea', 'ust-maya', 'abha', 'marshall', 'agadez', 'machico', 'lavrentiya', 'mali', 'durban', 'hunza', 'iqaluit', 'praia', 'okakarara', 'ahipara', 'tulun', 'hanchuan', 'mwanza', 'mehran', 'rawannawi', 'ginda', 'san policarpo', 'panaba', 'kahului', 'sterling', 'magadan', 'coffs harbour', 'rawson', 'miles city', 'scarborough', 'la ronge', 'strangnas', 'ambunti', 'salinas', 'linjiang', 'san quintin', 'atar', 'madimba', 'camacha', 'la asuncion', 'naze', 'gamba', 'evensk', 'labutta', 'oranjemund', 'kenai', 'ati', 'sheksna', 'tecoanapa', 'listvyanskiy', 'wadi musa', 'lexington park', 'kunigal', 'denpasar', 'marfino', 'moerai', 'maldonado', 'mamallapuram', 'richland', 'san jose', 'yumen', 'aviles', 'guapi', 'oranjestad', 'marrakesh', 'yeppoon', 'christchurch', 'yanchukan', 'harper', 'cefalu', 'mount gambier', 'barra patuca', 'bonfim', 'arroyo', 'qasigiannguit', 'belaya gora', 'mercedes', 'dawson', 'valjala', 'volgodonsk', 'alihe', 'careiro da varzea', 'myanaung', 'zhangye', 'klooga', 'cravo norte', 'farah', 'mogadishu', 'dasoguz', 'gat', 'mordovo', 'boa vista', 'huancabamba', 'severobaykalsk', 'marawi', 'brae', 'salym', 'huautla', 'mapastepec', 'sept-iles', 'manzil salim', 'kropotkin', 'orange cove', 'saint-pierre', 'kavieng', 'seoul', 'bauchi', 'helong', 'santo antonio do ica', 'soe', 'constitucion', 'alenquer', 'gao', 'jarjis', 'san-pedro', 'la serena']\n"
     ]
    }
   ],
   "source": [
    "\n"
   ]
  },
  {
   "cell_type": "code",
   "execution_count": null,
   "metadata": {},
   "outputs": [],
   "source": [
    "\n"
   ]
  },
  {
   "cell_type": "markdown",
   "metadata": {},
   "source": [
    "### Convert Raw Data to DataFrame\n",
    "* Export the city data into a .csv.\n",
    "* Display the DataFrame"
   ]
  },
  {
   "cell_type": "code",
   "execution_count": null,
   "metadata": {},
   "outputs": [],
   "source": []
  },
  {
   "cell_type": "code",
   "execution_count": null,
   "metadata": {},
   "outputs": [],
   "source": []
  },
  {
   "cell_type": "markdown",
   "metadata": {},
   "source": [
    "## Inspect the data and remove the cities where the humidity > 100%.\n",
    "----\n",
    "Skip this step if there are no cities that have humidity > 100%. "
   ]
  },
  {
   "cell_type": "code",
   "execution_count": null,
   "metadata": {},
   "outputs": [],
   "source": []
  },
  {
   "cell_type": "code",
   "execution_count": null,
   "metadata": {},
   "outputs": [],
   "source": [
    "#  Get the indices of cities that have humidity over 100%.\n"
   ]
  },
  {
   "cell_type": "code",
   "execution_count": null,
   "metadata": {},
   "outputs": [],
   "source": [
    "# Make a new DataFrame equal to the city data to drop all humidity outliers by index.\n",
    "# Passing \"inplace=False\" will make a copy of the city_data DataFrame, which we call \"clean_city_data\".\n"
   ]
  },
  {
   "cell_type": "code",
   "execution_count": null,
   "metadata": {},
   "outputs": [],
   "source": [
    "\n"
   ]
  },
  {
   "cell_type": "markdown",
   "metadata": {},
   "source": [
    "## Plotting the Data\n",
    "* Use proper labeling of the plots using plot titles (including date of analysis) and axes labels.\n",
    "* Save the plotted figures as .pngs."
   ]
  },
  {
   "cell_type": "markdown",
   "metadata": {},
   "source": [
    "## Latitude vs. Temperature Plot"
   ]
  },
  {
   "cell_type": "code",
   "execution_count": null,
   "metadata": {
    "scrolled": true
   },
   "outputs": [],
   "source": []
  },
  {
   "cell_type": "markdown",
   "metadata": {},
   "source": [
    "## Latitude vs. Humidity Plot"
   ]
  },
  {
   "cell_type": "code",
   "execution_count": null,
   "metadata": {},
   "outputs": [],
   "source": []
  },
  {
   "cell_type": "markdown",
   "metadata": {},
   "source": [
    "## Latitude vs. Cloudiness Plot"
   ]
  },
  {
   "cell_type": "code",
   "execution_count": null,
   "metadata": {},
   "outputs": [],
   "source": []
  },
  {
   "cell_type": "markdown",
   "metadata": {},
   "source": [
    "## Latitude vs. Wind Speed Plot"
   ]
  },
  {
   "cell_type": "code",
   "execution_count": null,
   "metadata": {},
   "outputs": [],
   "source": []
  },
  {
   "cell_type": "markdown",
   "metadata": {},
   "source": [
    "## Linear Regression"
   ]
  },
  {
   "cell_type": "code",
   "execution_count": null,
   "metadata": {},
   "outputs": [],
   "source": []
  },
  {
   "cell_type": "markdown",
   "metadata": {},
   "source": [
    "####  Northern Hemisphere - Max Temp vs. Latitude Linear Regression"
   ]
  },
  {
   "cell_type": "code",
   "execution_count": null,
   "metadata": {},
   "outputs": [],
   "source": []
  },
  {
   "cell_type": "markdown",
   "metadata": {},
   "source": [
    "####  Southern Hemisphere - Max Temp vs. Latitude Linear Regression"
   ]
  },
  {
   "cell_type": "code",
   "execution_count": null,
   "metadata": {},
   "outputs": [],
   "source": []
  },
  {
   "cell_type": "markdown",
   "metadata": {},
   "source": [
    "####  Northern Hemisphere - Humidity (%) vs. Latitude Linear Regression"
   ]
  },
  {
   "cell_type": "code",
   "execution_count": null,
   "metadata": {},
   "outputs": [],
   "source": []
  },
  {
   "cell_type": "markdown",
   "metadata": {},
   "source": [
    "####  Southern Hemisphere - Humidity (%) vs. Latitude Linear Regression"
   ]
  },
  {
   "cell_type": "code",
   "execution_count": null,
   "metadata": {},
   "outputs": [],
   "source": []
  },
  {
   "cell_type": "markdown",
   "metadata": {},
   "source": [
    "####  Northern Hemisphere - Cloudiness (%) vs. Latitude Linear Regression"
   ]
  },
  {
   "cell_type": "code",
   "execution_count": null,
   "metadata": {},
   "outputs": [],
   "source": []
  },
  {
   "cell_type": "markdown",
   "metadata": {},
   "source": [
    "####  Southern Hemisphere - Cloudiness (%) vs. Latitude Linear Regression"
   ]
  },
  {
   "cell_type": "code",
   "execution_count": null,
   "metadata": {},
   "outputs": [],
   "source": []
  },
  {
   "cell_type": "markdown",
   "metadata": {},
   "source": [
    "####  Northern Hemisphere - Wind Speed (mph) vs. Latitude Linear Regression"
   ]
  },
  {
   "cell_type": "code",
   "execution_count": null,
   "metadata": {},
   "outputs": [],
   "source": []
  },
  {
   "cell_type": "markdown",
   "metadata": {},
   "source": [
    "####  Southern Hemisphere - Wind Speed (mph) vs. Latitude Linear Regression"
   ]
  },
  {
   "cell_type": "code",
   "execution_count": null,
   "metadata": {},
   "outputs": [],
   "source": []
  },
  {
   "cell_type": "code",
   "execution_count": null,
   "metadata": {},
   "outputs": [],
   "source": []
  }
 ],
 "metadata": {
  "anaconda-cloud": {},
  "kernel_info": {
   "name": "python3"
  },
  "kernelspec": {
   "display_name": "Python 3",
   "language": "python",
   "name": "python3"
  },
  "language_info": {
   "codemirror_mode": {
    "name": "ipython",
    "version": 3
   },
   "file_extension": ".py",
   "mimetype": "text/x-python",
   "name": "python",
   "nbconvert_exporter": "python",
   "pygments_lexer": "ipython3",
   "version": "3.8.5"
  },
  "latex_envs": {
   "LaTeX_envs_menu_present": true,
   "autoclose": false,
   "autocomplete": true,
   "bibliofile": "biblio.bib",
   "cite_by": "apalike",
   "current_citInitial": 1,
   "eqLabelWithNumbers": true,
   "eqNumInitial": 1,
   "hotkeys": {
    "equation": "Ctrl-E",
    "itemize": "Ctrl-I"
   },
   "labels_anchors": false,
   "latex_user_defs": false,
   "report_style_numbering": false,
   "user_envs_cfg": false
  },
  "nteract": {
   "version": "0.12.3"
  }
 },
 "nbformat": 4,
 "nbformat_minor": 2
}
